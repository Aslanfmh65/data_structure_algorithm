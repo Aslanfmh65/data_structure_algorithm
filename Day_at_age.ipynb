{
 "cells": [
  {
   "cell_type": "code",
   "execution_count": 10,
   "metadata": {},
   "outputs": [],
   "source": [
    "# # Define a daysBetweenDates procedure that would produce the\n",
    "# # correct output if there was a correct nextDay procedure.\n",
    "# #\n",
    "# # Note that this will NOT produce correct outputs yet, since\n",
    "# # our nextDay procedure assumes all months have 30 days\n",
    "# # (hence a year is 360 days, instead of 365).\n",
    "# # \n",
    "\n",
    "# def nextDay(year, month, day):\n",
    "#     \"\"\"Simple version: assume every month has 30 days\"\"\"\n",
    "#     if day < 30:\n",
    "#         return year, month, day + 1\n",
    "#     else:\n",
    "#         if month == 12:\n",
    "#             return year + 1, 1, 1\n",
    "#         else:\n",
    "#             return year, month + 1, 1\n",
    "        \n",
    "# def daysBetweenDates(year1, month1, day1, year2, month2, day2):\n",
    "#     \"\"\"Returns the number of days between year1/month1/day1\n",
    "#        and year2/month2/day2. Assumes inputs are valid dates\n",
    "#        in Gregorian calendar, and the first date is not after\n",
    "#        the second.\"\"\"\n",
    "        \n",
    "#     # YOUR CODE HERE!\n",
    "#     day_count = 0\n",
    "#     year = year1\n",
    "#     month = month1\n",
    "#     day = day1\n",
    "    \n",
    "#     while True:\n",
    "#         if (year == year2) & (month == month2) & (day == day2):\n",
    "#             break\n",
    "#         year, month, day = nextDay(year, month, day)\n",
    "#         day_count += 1\n",
    "        \n",
    "#     return day_count\n",
    "\n",
    "# def test():\n",
    "#     test_cases = [((2012,9,30,2012,10,30),30), \n",
    "#                   ((2012,1,1,2013,1,1),360),\n",
    "#                   ((2012,9,1,2012,9,4),3)]\n",
    "    \n",
    "#     for (args, answer) in test_cases:\n",
    "#         result = daysBetweenDates(*args)\n",
    "#         if result != answer:\n",
    "#             print (\"Test with data:\", args, \"failed\")\n",
    "#             print(result)\n",
    "#         else:\n",
    "#             print (\"Test case passed!\")"
   ]
  },
  {
   "cell_type": "code",
   "execution_count": 53,
   "metadata": {},
   "outputs": [],
   "source": [
    "# Credit goes to Websten from forums\n",
    "#\n",
    "# Use Dave's suggestions to finish your daysBetweenDates\n",
    "# procedure. It will need to take into account leap years\n",
    "# in addition to the correct number of days in each month.\n",
    "\n",
    "def leap_year(year):\n",
    "    if (year % 4) == 0:\n",
    "        if (year % 100) == 0:\n",
    "            if (year % 400) == 0:\n",
    "                return \"leap\"\n",
    "            else:\n",
    "                return \"n_leap\"\n",
    "        else:\n",
    "            return \"leap\"\n",
    "    else:\n",
    "        return \"n_leap\"\n",
    "    \n",
    "    \n",
    "\n",
    "def nextDay(year, month, day):\n",
    "    \"\"\"Simple version: assume every month has 30 days\"\"\"\n",
    "    month_day = {1:31, 2:28, 3:31, 4:30, 5:31, 6:30, 7:31, 8:31, 9:30, 10:31, 11:30, 12:31}\n",
    "    if leap_year(year) == \"leap\":\n",
    "        month_day[2] = 29\n",
    "    \n",
    "    if day < month_day[month]:\n",
    "        return year, month, day + 1\n",
    "    else:\n",
    "        if month == 12:\n",
    "            return year + 1, 1, 1\n",
    "        else:\n",
    "            return year, month + 1, 1\n",
    "\n",
    "\n",
    "        \n",
    "def dateIsBefore(year1, month1, day1, year2, month2, day2):\n",
    "    \"\"\"Returns True if year1-month1-day1 is before year2-month2-day2. Otherwise, returns False.\"\"\"\n",
    "    if year1 < year2:\n",
    "        return True\n",
    "    if year1 == year2:\n",
    "        if month1 < month2:\n",
    "            return True\n",
    "        if month1 == month2:\n",
    "            return day1 < day2\n",
    "    return False        \n",
    "\n",
    "def daysBetweenDates(year1, month1, day1, year2, month2, day2):\n",
    "    \"\"\"Returns the number of days between year1/month1/day1\n",
    "       and year2/month2/day2. Assumes inputs are valid dates\n",
    "       in Gregorian calendar.\"\"\"\n",
    "    # program defensively! Add an assertion if the input is not valid!\n",
    "    assert not dateIsBefore(year2, month2, day2, year1, month1, day1)\n",
    "    days = 0\n",
    "    while dateIsBefore(year1, month1, day1, year2, month2, day2):\n",
    "        year1, month1, day1 = nextDay(year1, month1, day1)\n",
    "        days += 1\n",
    "    return days\n",
    "\n",
    "def test():\n",
    "    test_cases = [((2012,1,1,2012,2,28), 58), \n",
    "                  ((2012,1,1,2012,3,1), 60),\n",
    "                  ((2011,6,30,2012,6,30), 366),\n",
    "                  ((2011,1,1,2012,8,8), 585 ),\n",
    "                  ((1900,1,1,1999,12,31), 36523)]\n",
    "    \n",
    "    for (args, answer) in test_cases:\n",
    "        result = daysBetweenDates(*args)\n",
    "        if result != answer:\n",
    "            print (\"Test with data:\", args, \"failed\")\n",
    "            print(\"Result is {} and answer is {}\".format(result, answer))\n",
    "        else:\n",
    "            print (\"Test case passed!\")"
   ]
  },
  {
   "cell_type": "code",
   "execution_count": 54,
   "metadata": {},
   "outputs": [
    {
     "name": "stdout",
     "output_type": "stream",
     "text": [
      "Test case passed!\n",
      "Test case passed!\n",
      "Test case passed!\n",
      "Test case passed!\n",
      "Test case passed!\n"
     ]
    }
   ],
   "source": [
    "test()"
   ]
  },
  {
   "cell_type": "code",
   "execution_count": 46,
   "metadata": {},
   "outputs": [],
   "source": [
    "month_day = {1:31, 2:28, 3:31, 4:30, 5:31, 6:30, 7:31, 8:31, 9:30, 10:31, 11:30, 12:31}"
   ]
  },
  {
   "cell_type": "code",
   "execution_count": 47,
   "metadata": {},
   "outputs": [],
   "source": [
    "month_day[2] = 29"
   ]
  },
  {
   "cell_type": "code",
   "execution_count": 48,
   "metadata": {},
   "outputs": [
    {
     "data": {
      "text/plain": [
       "{1: 31,\n",
       " 2: 29,\n",
       " 3: 31,\n",
       " 4: 30,\n",
       " 5: 31,\n",
       " 6: 30,\n",
       " 7: 31,\n",
       " 8: 31,\n",
       " 9: 30,\n",
       " 10: 31,\n",
       " 11: 30,\n",
       " 12: 31}"
      ]
     },
     "execution_count": 48,
     "metadata": {},
     "output_type": "execute_result"
    }
   ],
   "source": [
    "month_day"
   ]
  },
  {
   "cell_type": "code",
   "execution_count": null,
   "metadata": {},
   "outputs": [],
   "source": []
  }
 ],
 "metadata": {
  "kernelspec": {
   "display_name": "Python 3",
   "language": "python",
   "name": "python3"
  },
  "language_info": {
   "codemirror_mode": {
    "name": "ipython",
    "version": 3
   },
   "file_extension": ".py",
   "mimetype": "text/x-python",
   "name": "python",
   "nbconvert_exporter": "python",
   "pygments_lexer": "ipython3",
   "version": "3.7.1"
  }
 },
 "nbformat": 4,
 "nbformat_minor": 2
}
